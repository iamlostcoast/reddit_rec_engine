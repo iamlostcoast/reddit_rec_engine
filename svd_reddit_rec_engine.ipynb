{
 "cells": [
  {
   "cell_type": "markdown",
   "metadata": {},
   "source": [
    "# Implementing SVD To Build a Subreddit Recommendation Engine\n",
    "\n",
    "We're going to be implementing an SVD model to build a subreddit recommendation engine.\n",
    "\n",
    "In this notebook, I'll go through the process of actually building the engine itself, after having previously collected reddit comment data.\n",
    "\n",
    "The source for this code is here: https://beckernick.github.io/matrix-factorization-recommender/"
   ]
  },
  {
   "cell_type": "code",
   "execution_count": 1,
   "metadata": {
    "collapsed": true
   },
   "outputs": [],
   "source": [
    "# First let's load some packages\n",
    "\n",
    "import pandas as pd\n",
    "import numpy as np\n",
    "import matplotlib.pyplot as plt\n",
    "import seaborn as sns\n",
    "%matplotlib inline\n",
    "import sqlite3"
   ]
  },
  {
   "cell_type": "code",
   "execution_count": 2,
   "metadata": {
    "collapsed": true
   },
   "outputs": [],
   "source": [
    "# and now we'll load in the comment data\n",
    "\n",
    "conn = sqlite3.Connection(\"./reddit_rec_data.sqlite\")\n",
    "data = pd.read_sql(\"SELECT * FROM comment_data\", con=conn)\n",
    "data.rename(columns={'variable': 'subreddit', 'value': 'comments'}, inplace=True)"
   ]
  },
  {
   "cell_type": "code",
   "execution_count": 3,
   "metadata": {},
   "outputs": [
    {
     "data": {
      "text/html": [
       "<div>\n",
       "<table border=\"1\" class=\"dataframe\">\n",
       "  <thead>\n",
       "    <tr style=\"text-align: right;\">\n",
       "      <th></th>\n",
       "      <th>index</th>\n",
       "      <th>user</th>\n",
       "      <th>subreddit</th>\n",
       "      <th>comments</th>\n",
       "    </tr>\n",
       "  </thead>\n",
       "  <tbody>\n",
       "    <tr>\n",
       "      <th>0</th>\n",
       "      <td>0</td>\n",
       "      <td>DCbean</td>\n",
       "      <td>r/10cloverfieldlane</td>\n",
       "      <td>1.0</td>\n",
       "    </tr>\n",
       "    <tr>\n",
       "      <th>1</th>\n",
       "      <td>1</td>\n",
       "      <td>fakedeepusername</td>\n",
       "      <td>r/1200isplenty</td>\n",
       "      <td>4.0</td>\n",
       "    </tr>\n",
       "    <tr>\n",
       "      <th>2</th>\n",
       "      <td>2</td>\n",
       "      <td>Shyguy380</td>\n",
       "      <td>r/13ReasonsWhy</td>\n",
       "      <td>1.0</td>\n",
       "    </tr>\n",
       "    <tr>\n",
       "      <th>3</th>\n",
       "      <td>3</td>\n",
       "      <td>jamjax12</td>\n",
       "      <td>r/13ReasonsWhy</td>\n",
       "      <td>5.0</td>\n",
       "    </tr>\n",
       "    <tr>\n",
       "      <th>4</th>\n",
       "      <td>4</td>\n",
       "      <td>Death215</td>\n",
       "      <td>r/2007scape</td>\n",
       "      <td>2.0</td>\n",
       "    </tr>\n",
       "  </tbody>\n",
       "</table>\n",
       "</div>"
      ],
      "text/plain": [
       "   index              user            subreddit  comments\n",
       "0      0            DCbean  r/10cloverfieldlane       1.0\n",
       "1      1  fakedeepusername       r/1200isplenty       4.0\n",
       "2      2         Shyguy380       r/13ReasonsWhy       1.0\n",
       "3      3          jamjax12       r/13ReasonsWhy       5.0\n",
       "4      4          Death215          r/2007scape       2.0"
      ]
     },
     "execution_count": 3,
     "metadata": {},
     "output_type": "execute_result"
    }
   ],
   "source": [
    "data.head()"
   ]
  },
  {
   "cell_type": "code",
   "execution_count": 4,
   "metadata": {
    "collapsed": true
   },
   "outputs": [],
   "source": [
    "# now we need to pivot the data to be able to get it so each row is a user, and the columns are subreddits.\n",
    "# let's start with just a sample of the data\n",
    "\n",
    "sample = data.iloc[0:50000, :]\n",
    "R_df = sample.pivot(index='user', columns='subreddit', values='comments').fillna(0)"
   ]
  },
  {
   "cell_type": "code",
   "execution_count": 6,
   "metadata": {},
   "outputs": [
    {
     "data": {
      "text/html": [
       "<div>\n",
       "<table border=\"1\" class=\"dataframe\">\n",
       "  <thead>\n",
       "    <tr style=\"text-align: right;\">\n",
       "      <th>subreddit</th>\n",
       "      <th>r/0xProject</th>\n",
       "      <th>r/100ballshack</th>\n",
       "      <th>r/100yearsago</th>\n",
       "      <th>r/1022</th>\n",
       "      <th>r/10cloverfieldlane</th>\n",
       "      <th>r/10mm</th>\n",
       "      <th>r/1200isjerky</th>\n",
       "      <th>r/1200isplenty</th>\n",
       "      <th>r/12Monkeys</th>\n",
       "      <th>r/13ReasonsWhy</th>\n",
       "      <th>...</th>\n",
       "      <th>r/zyzz</th>\n",
       "      <th>u/Cazazkq</th>\n",
       "      <th>u/Nintendo_America</th>\n",
       "      <th>u/OfficialValKilmer</th>\n",
       "      <th>u/Python422</th>\n",
       "      <th>u/Shitty_Watercolour</th>\n",
       "      <th>u/SmilsumKcuf</th>\n",
       "      <th>u/_BindersFullOfWomen_</th>\n",
       "      <th>u/maximumcrisis</th>\n",
       "      <th>u/washingtonpost</th>\n",
       "    </tr>\n",
       "    <tr>\n",
       "      <th>user</th>\n",
       "      <th></th>\n",
       "      <th></th>\n",
       "      <th></th>\n",
       "      <th></th>\n",
       "      <th></th>\n",
       "      <th></th>\n",
       "      <th></th>\n",
       "      <th></th>\n",
       "      <th></th>\n",
       "      <th></th>\n",
       "      <th></th>\n",
       "      <th></th>\n",
       "      <th></th>\n",
       "      <th></th>\n",
       "      <th></th>\n",
       "      <th></th>\n",
       "      <th></th>\n",
       "      <th></th>\n",
       "      <th></th>\n",
       "      <th></th>\n",
       "      <th></th>\n",
       "    </tr>\n",
       "  </thead>\n",
       "  <tbody>\n",
       "    <tr>\n",
       "      <th>--ManBearPig--</th>\n",
       "      <td>0.0</td>\n",
       "      <td>0.0</td>\n",
       "      <td>0.0</td>\n",
       "      <td>0.0</td>\n",
       "      <td>0.0</td>\n",
       "      <td>0.0</td>\n",
       "      <td>0.0</td>\n",
       "      <td>0.0</td>\n",
       "      <td>0.0</td>\n",
       "      <td>0.0</td>\n",
       "      <td>...</td>\n",
       "      <td>0.0</td>\n",
       "      <td>0.0</td>\n",
       "      <td>0.0</td>\n",
       "      <td>0.0</td>\n",
       "      <td>0.0</td>\n",
       "      <td>0.0</td>\n",
       "      <td>0.0</td>\n",
       "      <td>0.0</td>\n",
       "      <td>0.0</td>\n",
       "      <td>0.0</td>\n",
       "    </tr>\n",
       "    <tr>\n",
       "      <th>-Agathia-</th>\n",
       "      <td>0.0</td>\n",
       "      <td>0.0</td>\n",
       "      <td>0.0</td>\n",
       "      <td>0.0</td>\n",
       "      <td>0.0</td>\n",
       "      <td>0.0</td>\n",
       "      <td>0.0</td>\n",
       "      <td>0.0</td>\n",
       "      <td>0.0</td>\n",
       "      <td>0.0</td>\n",
       "      <td>...</td>\n",
       "      <td>0.0</td>\n",
       "      <td>0.0</td>\n",
       "      <td>0.0</td>\n",
       "      <td>0.0</td>\n",
       "      <td>0.0</td>\n",
       "      <td>0.0</td>\n",
       "      <td>0.0</td>\n",
       "      <td>0.0</td>\n",
       "      <td>0.0</td>\n",
       "      <td>0.0</td>\n",
       "    </tr>\n",
       "    <tr>\n",
       "      <th>-Big_Bad-</th>\n",
       "      <td>0.0</td>\n",
       "      <td>0.0</td>\n",
       "      <td>0.0</td>\n",
       "      <td>0.0</td>\n",
       "      <td>0.0</td>\n",
       "      <td>0.0</td>\n",
       "      <td>0.0</td>\n",
       "      <td>0.0</td>\n",
       "      <td>0.0</td>\n",
       "      <td>0.0</td>\n",
       "      <td>...</td>\n",
       "      <td>0.0</td>\n",
       "      <td>0.0</td>\n",
       "      <td>0.0</td>\n",
       "      <td>0.0</td>\n",
       "      <td>0.0</td>\n",
       "      <td>0.0</td>\n",
       "      <td>0.0</td>\n",
       "      <td>0.0</td>\n",
       "      <td>0.0</td>\n",
       "      <td>0.0</td>\n",
       "    </tr>\n",
       "    <tr>\n",
       "      <th>-Chrown-</th>\n",
       "      <td>0.0</td>\n",
       "      <td>0.0</td>\n",
       "      <td>0.0</td>\n",
       "      <td>0.0</td>\n",
       "      <td>0.0</td>\n",
       "      <td>0.0</td>\n",
       "      <td>0.0</td>\n",
       "      <td>0.0</td>\n",
       "      <td>0.0</td>\n",
       "      <td>0.0</td>\n",
       "      <td>...</td>\n",
       "      <td>0.0</td>\n",
       "      <td>0.0</td>\n",
       "      <td>0.0</td>\n",
       "      <td>0.0</td>\n",
       "      <td>0.0</td>\n",
       "      <td>0.0</td>\n",
       "      <td>0.0</td>\n",
       "      <td>0.0</td>\n",
       "      <td>0.0</td>\n",
       "      <td>0.0</td>\n",
       "    </tr>\n",
       "    <tr>\n",
       "      <th>-Claive-</th>\n",
       "      <td>0.0</td>\n",
       "      <td>0.0</td>\n",
       "      <td>0.0</td>\n",
       "      <td>0.0</td>\n",
       "      <td>0.0</td>\n",
       "      <td>0.0</td>\n",
       "      <td>0.0</td>\n",
       "      <td>0.0</td>\n",
       "      <td>0.0</td>\n",
       "      <td>0.0</td>\n",
       "      <td>...</td>\n",
       "      <td>0.0</td>\n",
       "      <td>0.0</td>\n",
       "      <td>0.0</td>\n",
       "      <td>0.0</td>\n",
       "      <td>0.0</td>\n",
       "      <td>0.0</td>\n",
       "      <td>0.0</td>\n",
       "      <td>0.0</td>\n",
       "      <td>0.0</td>\n",
       "      <td>0.0</td>\n",
       "    </tr>\n",
       "  </tbody>\n",
       "</table>\n",
       "<p>5 rows × 7677 columns</p>\n",
       "</div>"
      ],
      "text/plain": [
       "subreddit       r/0xProject  r/100ballshack  r/100yearsago  r/1022  \\\n",
       "user                                                                 \n",
       "--ManBearPig--          0.0             0.0            0.0     0.0   \n",
       "-Agathia-               0.0             0.0            0.0     0.0   \n",
       "-Big_Bad-               0.0             0.0            0.0     0.0   \n",
       "-Chrown-                0.0             0.0            0.0     0.0   \n",
       "-Claive-                0.0             0.0            0.0     0.0   \n",
       "\n",
       "subreddit       r/10cloverfieldlane  r/10mm  r/1200isjerky  r/1200isplenty  \\\n",
       "user                                                                         \n",
       "--ManBearPig--                  0.0     0.0            0.0             0.0   \n",
       "-Agathia-                       0.0     0.0            0.0             0.0   \n",
       "-Big_Bad-                       0.0     0.0            0.0             0.0   \n",
       "-Chrown-                        0.0     0.0            0.0             0.0   \n",
       "-Claive-                        0.0     0.0            0.0             0.0   \n",
       "\n",
       "subreddit       r/12Monkeys  r/13ReasonsWhy        ...         r/zyzz  \\\n",
       "user                                               ...                  \n",
       "--ManBearPig--          0.0             0.0        ...            0.0   \n",
       "-Agathia-               0.0             0.0        ...            0.0   \n",
       "-Big_Bad-               0.0             0.0        ...            0.0   \n",
       "-Chrown-                0.0             0.0        ...            0.0   \n",
       "-Claive-                0.0             0.0        ...            0.0   \n",
       "\n",
       "subreddit       u/Cazazkq  u/Nintendo_America  u/OfficialValKilmer  \\\n",
       "user                                                                 \n",
       "--ManBearPig--        0.0                 0.0                  0.0   \n",
       "-Agathia-             0.0                 0.0                  0.0   \n",
       "-Big_Bad-             0.0                 0.0                  0.0   \n",
       "-Chrown-              0.0                 0.0                  0.0   \n",
       "-Claive-              0.0                 0.0                  0.0   \n",
       "\n",
       "subreddit       u/Python422  u/Shitty_Watercolour  u/SmilsumKcuf  \\\n",
       "user                                                               \n",
       "--ManBearPig--          0.0                   0.0            0.0   \n",
       "-Agathia-               0.0                   0.0            0.0   \n",
       "-Big_Bad-               0.0                   0.0            0.0   \n",
       "-Chrown-                0.0                   0.0            0.0   \n",
       "-Claive-                0.0                   0.0            0.0   \n",
       "\n",
       "subreddit       u/_BindersFullOfWomen_  u/maximumcrisis  u/washingtonpost  \n",
       "user                                                                       \n",
       "--ManBearPig--                     0.0              0.0               0.0  \n",
       "-Agathia-                          0.0              0.0               0.0  \n",
       "-Big_Bad-                          0.0              0.0               0.0  \n",
       "-Chrown-                           0.0              0.0               0.0  \n",
       "-Claive-                           0.0              0.0               0.0  \n",
       "\n",
       "[5 rows x 7677 columns]"
      ]
     },
     "execution_count": 6,
     "metadata": {},
     "output_type": "execute_result"
    }
   ],
   "source": [
    "R_df.head()"
   ]
  },
  {
   "cell_type": "code",
   "execution_count": 10,
   "metadata": {
    "collapsed": true
   },
   "outputs": [],
   "source": [
    "# Now we need to \"de-mean\" the ratings, that is subtract the mean # of comments from each users number of comments\n",
    "\n",
    "R = R_df.as_matrix()\n",
    "R_means = np.mean(R, axis = 1)\n",
    "R_demeaned = R - R_means.reshape(-1,1)"
   ]
  },
  {
   "cell_type": "code",
   "execution_count": 11,
   "metadata": {},
   "outputs": [
    {
     "data": {
      "text/plain": [
       "array([[-0.00325648, -0.00325648, -0.00325648, ..., -0.00325648,\n",
       "        -0.00325648, -0.00325648],\n",
       "       [-0.00143285, -0.00143285, -0.00143285, ..., -0.00143285,\n",
       "        -0.00143285, -0.00143285],\n",
       "       [-0.00325648, -0.00325648, -0.00325648, ..., -0.00325648,\n",
       "        -0.00325648, -0.00325648],\n",
       "       ..., \n",
       "       [-0.00325648, -0.00325648, -0.00325648, ..., -0.00325648,\n",
       "        -0.00325648, -0.00325648],\n",
       "       [-0.00325648, -0.00325648, -0.00325648, ..., -0.00325648,\n",
       "        -0.00325648, -0.00325648],\n",
       "       [-0.00156311, -0.00156311, -0.00156311, ..., -0.00156311,\n",
       "        -0.00156311, -0.00156311]])"
      ]
     },
     "execution_count": 11,
     "metadata": {},
     "output_type": "execute_result"
    }
   ],
   "source": [
    "R_demeaned"
   ]
  },
  {
   "cell_type": "markdown",
   "metadata": {},
   "source": [
    "# SVD\n",
    "\n",
    "Now that we have properly normalized data we can do the SVD modeling"
   ]
  },
  {
   "cell_type": "code",
   "execution_count": 12,
   "metadata": {
    "collapsed": true
   },
   "outputs": [],
   "source": [
    "from scipy.sparse.linalg import svds\n",
    "\n",
    "U, sigma, Vt = svds(R_demeaned, k=50)"
   ]
  },
  {
   "cell_type": "code",
   "execution_count": 13,
   "metadata": {
    "collapsed": true
   },
   "outputs": [],
   "source": [
    "# sigma is just values, so we need to convert it to a matrix with sigma as the diagonal\n",
    "\n",
    "sigma = np.diag(sigma)"
   ]
  },
  {
   "cell_type": "code",
   "execution_count": 18,
   "metadata": {},
   "outputs": [],
   "source": [
    "# now, to get back to the predicted matrix, we take the dot product of all three matrices, and then add back\n",
    "# the means\n",
    "R_pred = np.dot(np.dot(U, sigma), Vt) + R_means.reshape(-1,1)"
   ]
  },
  {
   "cell_type": "code",
   "execution_count": 21,
   "metadata": {
    "collapsed": true
   },
   "outputs": [],
   "source": [
    "preds_df = pd.DataFrame(R_pred, columns = R_df.columns)"
   ]
  },
  {
   "cell_type": "code",
   "execution_count": 26,
   "metadata": {},
   "outputs": [
    {
     "name": "stdout",
     "output_type": "stream",
     "text": [
      "0.147133831456\n"
     ]
    }
   ],
   "source": [
    "# we can evaluate the performance of the model by taking the RMSE of the original and new dataframes\n",
    "from sklearn.metrics import mean_squared_error\n",
    "\n",
    "RMSE = mean_squared_error(R_df, preds_df)**0.5\n",
    "print RMSE"
   ]
  },
  {
   "cell_type": "markdown",
   "metadata": {},
   "source": [
    "What we should do now is split the data up into training and testing, and then try to optimize for the k value of latent features that minimizes RMSE.  We'll come back to that.\n",
    "\n",
    "For now, let's write up code that serves us recommendations based on the recomposed matrix we just built."
   ]
  },
  {
   "cell_type": "code",
   "execution_count": 56,
   "metadata": {},
   "outputs": [
    {
     "data": {
      "text/html": [
       "<div>\n",
       "<table border=\"1\" class=\"dataframe\">\n",
       "  <thead>\n",
       "    <tr style=\"text-align: right;\">\n",
       "      <th></th>\n",
       "      <th>index</th>\n",
       "      <th>user</th>\n",
       "      <th>subreddit</th>\n",
       "      <th>comments</th>\n",
       "    </tr>\n",
       "  </thead>\n",
       "  <tbody>\n",
       "    <tr>\n",
       "      <th>0</th>\n",
       "      <td>0</td>\n",
       "      <td>DCbean</td>\n",
       "      <td>r/10cloverfieldlane</td>\n",
       "      <td>1.0</td>\n",
       "    </tr>\n",
       "    <tr>\n",
       "      <th>263</th>\n",
       "      <td>263</td>\n",
       "      <td>DCbean</td>\n",
       "      <td>r/AskReddit</td>\n",
       "      <td>1.0</td>\n",
       "    </tr>\n",
       "    <tr>\n",
       "      <th>692</th>\n",
       "      <td>692</td>\n",
       "      <td>DCbean</td>\n",
       "      <td>r/Breath_of_the_Wild</td>\n",
       "      <td>1.0</td>\n",
       "    </tr>\n",
       "    <tr>\n",
       "      <th>860</th>\n",
       "      <td>860</td>\n",
       "      <td>DCbean</td>\n",
       "      <td>r/CrappyDesign</td>\n",
       "      <td>1.0</td>\n",
       "    </tr>\n",
       "    <tr>\n",
       "      <th>1671</th>\n",
       "      <td>1671</td>\n",
       "      <td>DCbean</td>\n",
       "      <td>r/MBMBAM</td>\n",
       "      <td>2.0</td>\n",
       "    </tr>\n",
       "    <tr>\n",
       "      <th>1825</th>\n",
       "      <td>1825</td>\n",
       "      <td>DCbean</td>\n",
       "      <td>r/Mommit</td>\n",
       "      <td>1.0</td>\n",
       "    </tr>\n",
       "    <tr>\n",
       "      <th>2368</th>\n",
       "      <td>2368</td>\n",
       "      <td>DCbean</td>\n",
       "      <td>r/Showerthoughts</td>\n",
       "      <td>1.0</td>\n",
       "    </tr>\n",
       "    <tr>\n",
       "      <th>3826</th>\n",
       "      <td>3826</td>\n",
       "      <td>DCbean</td>\n",
       "      <td>r/funny</td>\n",
       "      <td>10.0</td>\n",
       "    </tr>\n",
       "    <tr>\n",
       "      <th>4600</th>\n",
       "      <td>4600</td>\n",
       "      <td>DCbean</td>\n",
       "      <td>r/maximumfun</td>\n",
       "      <td>2.0</td>\n",
       "    </tr>\n",
       "    <tr>\n",
       "      <th>5242</th>\n",
       "      <td>5242</td>\n",
       "      <td>DCbean</td>\n",
       "      <td>r/pics</td>\n",
       "      <td>2.0</td>\n",
       "    </tr>\n",
       "    <tr>\n",
       "      <th>6324</th>\n",
       "      <td>6324</td>\n",
       "      <td>DCbean</td>\n",
       "      <td>r/washingtondc</td>\n",
       "      <td>2.0</td>\n",
       "    </tr>\n",
       "  </tbody>\n",
       "</table>\n",
       "</div>"
      ],
      "text/plain": [
       "      index    user             subreddit  comments\n",
       "0         0  DCbean   r/10cloverfieldlane       1.0\n",
       "263     263  DCbean           r/AskReddit       1.0\n",
       "692     692  DCbean  r/Breath_of_the_Wild       1.0\n",
       "860     860  DCbean        r/CrappyDesign       1.0\n",
       "1671   1671  DCbean              r/MBMBAM       2.0\n",
       "1825   1825  DCbean              r/Mommit       1.0\n",
       "2368   2368  DCbean      r/Showerthoughts       1.0\n",
       "3826   3826  DCbean               r/funny      10.0\n",
       "4600   4600  DCbean          r/maximumfun       2.0\n",
       "5242   5242  DCbean                r/pics       2.0\n",
       "6324   6324  DCbean        r/washingtondc       2.0"
      ]
     },
     "execution_count": 56,
     "metadata": {},
     "output_type": "execute_result"
    }
   ],
   "source": [
    "# DCbean is going to be my test person\n",
    "\n",
    "data[data['user']=='DCbean']"
   ]
  },
  {
   "cell_type": "code",
   "execution_count": 72,
   "metadata": {
    "collapsed": true
   },
   "outputs": [],
   "source": [
    "def recommend_subreddits(predictions_df, username, original_ratings_df, unpivoted_df, num_recommendations=10):\n",
    "    # we want to get the index of the row of the new DF that corresponds to this user\n",
    "    user_row = list(original_ratings_df.index).index(username)\n",
    "    \n",
    "    sorted_user_predictions = predictions_df.iloc[user_row].sort_values(ascending=False)\n",
    "    \n",
    "    # let's check out which subreddits have already been commented on\n",
    "    commented = unpivoted_df[unpivoted_df['user']==username].subreddit.values\n",
    "    sorted_user_predictions = sorted_user_predictions.reset_index()\n",
    "    sorted_user_predictions.columns = ['subreddit', 'predicted_comments']\n",
    "    \n",
    "    # only want to get recs for \n",
    "    recs = sorted_user_predictions[~sorted_user_predictions['subreddit'].isin(commented)]\n",
    "    \n",
    "    recs_limited = recs.iloc[0:num_recommendations, :]\n",
    "    return recs_limited\n",
    "    "
   ]
  },
  {
   "cell_type": "code",
   "execution_count": 73,
   "metadata": {},
   "outputs": [
    {
     "data": {
      "text/html": [
       "<div>\n",
       "<table border=\"1\" class=\"dataframe\">\n",
       "  <thead>\n",
       "    <tr style=\"text-align: right;\">\n",
       "      <th></th>\n",
       "      <th>subreddit</th>\n",
       "      <th>predicted_comments</th>\n",
       "    </tr>\n",
       "  </thead>\n",
       "  <tbody>\n",
       "    <tr>\n",
       "      <th>1</th>\n",
       "      <td>r/videos</td>\n",
       "      <td>3.113572</td>\n",
       "    </tr>\n",
       "    <tr>\n",
       "      <th>2</th>\n",
       "      <td>r/gaming</td>\n",
       "      <td>2.022728</td>\n",
       "    </tr>\n",
       "    <tr>\n",
       "      <th>3</th>\n",
       "      <td>r/gifs</td>\n",
       "      <td>1.875062</td>\n",
       "    </tr>\n",
       "    <tr>\n",
       "      <th>5</th>\n",
       "      <td>r/todayilearned</td>\n",
       "      <td>1.579901</td>\n",
       "    </tr>\n",
       "    <tr>\n",
       "      <th>7</th>\n",
       "      <td>r/CringeAnarchy</td>\n",
       "      <td>0.756726</td>\n",
       "    </tr>\n",
       "    <tr>\n",
       "      <th>8</th>\n",
       "      <td>r/aww</td>\n",
       "      <td>0.654116</td>\n",
       "    </tr>\n",
       "    <tr>\n",
       "      <th>10</th>\n",
       "      <td>r/mildlyinteresting</td>\n",
       "      <td>0.578071</td>\n",
       "    </tr>\n",
       "    <tr>\n",
       "      <th>11</th>\n",
       "      <td>r/WTF</td>\n",
       "      <td>0.482566</td>\n",
       "    </tr>\n",
       "    <tr>\n",
       "      <th>12</th>\n",
       "      <td>r/hearthstone</td>\n",
       "      <td>0.379388</td>\n",
       "    </tr>\n",
       "    <tr>\n",
       "      <th>13</th>\n",
       "      <td>r/pokemongo</td>\n",
       "      <td>0.356606</td>\n",
       "    </tr>\n",
       "  </tbody>\n",
       "</table>\n",
       "</div>"
      ],
      "text/plain": [
       "              subreddit  predicted_comments\n",
       "1              r/videos            3.113572\n",
       "2              r/gaming            2.022728\n",
       "3                r/gifs            1.875062\n",
       "5       r/todayilearned            1.579901\n",
       "7       r/CringeAnarchy            0.756726\n",
       "8                 r/aww            0.654116\n",
       "10  r/mildlyinteresting            0.578071\n",
       "11                r/WTF            0.482566\n",
       "12        r/hearthstone            0.379388\n",
       "13          r/pokemongo            0.356606"
      ]
     },
     "execution_count": 73,
     "metadata": {},
     "output_type": "execute_result"
    }
   ],
   "source": [
    "recommend_subreddits(predictions_df=preds_df, username='DCbean', original_ratings_df=R_df, unpivoted_df=sample)"
   ]
  },
  {
   "cell_type": "markdown",
   "metadata": {},
   "source": [
    "It seems like we may have a bit of a harry potter effect problem, with the really popular subreddits dominating the recommendations.  I wonder if we could account for this by log transforming comments or somehow normalizing comments in another way."
   ]
  },
  {
   "cell_type": "markdown",
   "metadata": {},
   "source": [
    "It's noteworthy that the RMSE doesn't seem to very much between different values for k.  Looks like 10 is the strongest here, and then it starts to overfit, but there's hardly a difference between 10 and the others."
   ]
  },
  {
   "cell_type": "markdown",
   "metadata": {},
   "source": [
    "Let's see what the top most commented subreddits are, and also look into where we're seeing the biggest error."
   ]
  },
  {
   "cell_type": "code",
   "execution_count": 141,
   "metadata": {},
   "outputs": [],
   "source": [
    "from scipy.sparse.linalg import svds\n",
    "\n",
    "U, sigma, Vt = svds(R_demeaned, k=10)\n",
    "sigma = np.diag(sigma)\n",
    "R_pred = np.dot(np.dot(U, sigma), Vt) + R_means.reshape(-1,1)\n",
    "\n",
    "preds_df = pd.DataFrame(R_pred, columns = R_df.columns)\n",
    "preds_df['user'] = R_df.index\n",
    "\n",
    "preds_long = pd.melt(preds_df, id_vars='user', value_name='comments')"
   ]
  },
  {
   "cell_type": "code",
   "execution_count": 147,
   "metadata": {},
   "outputs": [
    {
     "data": {
      "text/html": [
       "<div>\n",
       "<table border=\"1\" class=\"dataframe\">\n",
       "  <thead>\n",
       "    <tr style=\"text-align: right;\">\n",
       "      <th></th>\n",
       "      <th>user</th>\n",
       "      <th>subreddit</th>\n",
       "      <th>comments</th>\n",
       "    </tr>\n",
       "  </thead>\n",
       "  <tbody>\n",
       "    <tr>\n",
       "      <th>0</th>\n",
       "      <td>--ManBearPig--</td>\n",
       "      <td>r/0xProject</td>\n",
       "      <td>-0.000806</td>\n",
       "    </tr>\n",
       "    <tr>\n",
       "      <th>1</th>\n",
       "      <td>-Agathia-</td>\n",
       "      <td>r/0xProject</td>\n",
       "      <td>0.001046</td>\n",
       "    </tr>\n",
       "    <tr>\n",
       "      <th>2</th>\n",
       "      <td>-Big_Bad-</td>\n",
       "      <td>r/0xProject</td>\n",
       "      <td>0.003272</td>\n",
       "    </tr>\n",
       "    <tr>\n",
       "      <th>3</th>\n",
       "      <td>-Chrown-</td>\n",
       "      <td>r/0xProject</td>\n",
       "      <td>-0.001198</td>\n",
       "    </tr>\n",
       "    <tr>\n",
       "      <th>4</th>\n",
       "      <td>-Claive-</td>\n",
       "      <td>r/0xProject</td>\n",
       "      <td>0.000306</td>\n",
       "    </tr>\n",
       "  </tbody>\n",
       "</table>\n",
       "</div>"
      ],
      "text/plain": [
       "             user    subreddit  comments\n",
       "0  --ManBearPig--  r/0xProject -0.000806\n",
       "1       -Agathia-  r/0xProject  0.001046\n",
       "2       -Big_Bad-  r/0xProject  0.003272\n",
       "3        -Chrown-  r/0xProject -0.001198\n",
       "4        -Claive-  r/0xProject  0.000306"
      ]
     },
     "execution_count": 147,
     "metadata": {},
     "output_type": "execute_result"
    }
   ],
   "source": [
    "preds_long.head()"
   ]
  },
  {
   "cell_type": "code",
   "execution_count": 149,
   "metadata": {},
   "outputs": [
    {
     "data": {
      "text/html": [
       "<div>\n",
       "<table border=\"1\" class=\"dataframe\">\n",
       "  <thead>\n",
       "    <tr style=\"text-align: right;\">\n",
       "      <th></th>\n",
       "      <th>index</th>\n",
       "      <th>user</th>\n",
       "      <th>subreddit</th>\n",
       "      <th>comments</th>\n",
       "    </tr>\n",
       "  </thead>\n",
       "  <tbody>\n",
       "    <tr>\n",
       "      <th>0</th>\n",
       "      <td>0</td>\n",
       "      <td>DCbean</td>\n",
       "      <td>r/10cloverfieldlane</td>\n",
       "      <td>1.0</td>\n",
       "    </tr>\n",
       "    <tr>\n",
       "      <th>1</th>\n",
       "      <td>1</td>\n",
       "      <td>fakedeepusername</td>\n",
       "      <td>r/1200isplenty</td>\n",
       "      <td>4.0</td>\n",
       "    </tr>\n",
       "    <tr>\n",
       "      <th>2</th>\n",
       "      <td>2</td>\n",
       "      <td>Shyguy380</td>\n",
       "      <td>r/13ReasonsWhy</td>\n",
       "      <td>1.0</td>\n",
       "    </tr>\n",
       "    <tr>\n",
       "      <th>3</th>\n",
       "      <td>3</td>\n",
       "      <td>jamjax12</td>\n",
       "      <td>r/13ReasonsWhy</td>\n",
       "      <td>5.0</td>\n",
       "    </tr>\n",
       "    <tr>\n",
       "      <th>4</th>\n",
       "      <td>4</td>\n",
       "      <td>Death215</td>\n",
       "      <td>r/2007scape</td>\n",
       "      <td>2.0</td>\n",
       "    </tr>\n",
       "  </tbody>\n",
       "</table>\n",
       "</div>"
      ],
      "text/plain": [
       "   index              user            subreddit  comments\n",
       "0      0            DCbean  r/10cloverfieldlane       1.0\n",
       "1      1  fakedeepusername       r/1200isplenty       4.0\n",
       "2      2         Shyguy380       r/13ReasonsWhy       1.0\n",
       "3      3          jamjax12       r/13ReasonsWhy       5.0\n",
       "4      4          Death215          r/2007scape       2.0"
      ]
     },
     "execution_count": 149,
     "metadata": {},
     "output_type": "execute_result"
    }
   ],
   "source": [
    "test_long.head()"
   ]
  },
  {
   "cell_type": "code",
   "execution_count": 143,
   "metadata": {},
   "outputs": [
    {
     "data": {
      "text/plain": [
       "(60671331, 3)"
      ]
     },
     "execution_count": 143,
     "metadata": {},
     "output_type": "execute_result"
    }
   ],
   "source": [
    "preds_long.shape"
   ]
  },
  {
   "cell_type": "code",
   "execution_count": 150,
   "metadata": {
    "collapsed": true
   },
   "outputs": [],
   "source": [
    "# we need to merge the preds_long with test_long, because the predicted value has values for every user for every sub\n",
    "# and the test_long just has user/sub combos where the user commented on that sub\n",
    "\n",
    "preds_long.rename(columns={'comments': 'predicted_comments'}, inplace=True)\n",
    "test_and_pred = test_long.merge(preds_long, how='left', left_on=['user', 'subreddit'], right_on=['user', 'subreddit'])"
   ]
  },
  {
   "cell_type": "code",
   "execution_count": 151,
   "metadata": {},
   "outputs": [
    {
     "data": {
      "text/plain": [
       "(50000, 5)"
      ]
     },
     "execution_count": 151,
     "metadata": {},
     "output_type": "execute_result"
    }
   ],
   "source": [
    "# that was really slow.  Also once we scale this up from just a sample it's not going to be an efficient way\n",
    "# of doing this.\n",
    "test_and_pred.shape"
   ]
  },
  {
   "cell_type": "code",
   "execution_count": 154,
   "metadata": {},
   "outputs": [
    {
     "data": {
      "text/html": [
       "<div>\n",
       "<table border=\"1\" class=\"dataframe\">\n",
       "  <thead>\n",
       "    <tr style=\"text-align: right;\">\n",
       "      <th></th>\n",
       "      <th>index</th>\n",
       "      <th>user</th>\n",
       "      <th>subreddit</th>\n",
       "      <th>comments_x</th>\n",
       "      <th>comments_y</th>\n",
       "    </tr>\n",
       "  </thead>\n",
       "  <tbody>\n",
       "    <tr>\n",
       "      <th>0</th>\n",
       "      <td>0</td>\n",
       "      <td>DCbean</td>\n",
       "      <td>r/10cloverfieldlane</td>\n",
       "      <td>1.0</td>\n",
       "      <td>0.002581</td>\n",
       "    </tr>\n",
       "    <tr>\n",
       "      <th>1</th>\n",
       "      <td>1</td>\n",
       "      <td>fakedeepusername</td>\n",
       "      <td>r/1200isplenty</td>\n",
       "      <td>4.0</td>\n",
       "      <td>0.003696</td>\n",
       "    </tr>\n",
       "    <tr>\n",
       "      <th>2</th>\n",
       "      <td>2</td>\n",
       "      <td>Shyguy380</td>\n",
       "      <td>r/13ReasonsWhy</td>\n",
       "      <td>1.0</td>\n",
       "      <td>0.003238</td>\n",
       "    </tr>\n",
       "    <tr>\n",
       "      <th>3</th>\n",
       "      <td>3</td>\n",
       "      <td>jamjax12</td>\n",
       "      <td>r/13ReasonsWhy</td>\n",
       "      <td>5.0</td>\n",
       "      <td>0.003265</td>\n",
       "    </tr>\n",
       "    <tr>\n",
       "      <th>4</th>\n",
       "      <td>4</td>\n",
       "      <td>Death215</td>\n",
       "      <td>r/2007scape</td>\n",
       "      <td>2.0</td>\n",
       "      <td>0.004683</td>\n",
       "    </tr>\n",
       "  </tbody>\n",
       "</table>\n",
       "</div>"
      ],
      "text/plain": [
       "   index              user            subreddit  comments_x  comments_y\n",
       "0      0            DCbean  r/10cloverfieldlane         1.0    0.002581\n",
       "1      1  fakedeepusername       r/1200isplenty         4.0    0.003696\n",
       "2      2         Shyguy380       r/13ReasonsWhy         1.0    0.003238\n",
       "3      3          jamjax12       r/13ReasonsWhy         5.0    0.003265\n",
       "4      4          Death215          r/2007scape         2.0    0.004683"
      ]
     },
     "execution_count": 154,
     "metadata": {},
     "output_type": "execute_result"
    }
   ],
   "source": [
    "test_and_pred.head()"
   ]
  },
  {
   "cell_type": "code",
   "execution_count": 163,
   "metadata": {},
   "outputs": [
    {
     "data": {
      "text/plain": [
       "5.6837237014605888"
      ]
     },
     "execution_count": 163,
     "metadata": {},
     "output_type": "execute_result"
    }
   ],
   "source": [
    "mean_squared_error(test_and_pred['comments'], test_and_pred['predicted_comments'])**0.5"
   ]
  },
  {
   "cell_type": "markdown",
   "metadata": {},
   "source": [
    "So it looks like the RMSE for the predicted comments right now is 5.7.  That seems really bad. I imagine we could potentially do better by just guessing the mean for a subreddit everytime.  How does this error compare to the mean number of comments in general?"
   ]
  },
  {
   "cell_type": "code",
   "execution_count": 166,
   "metadata": {},
   "outputs": [
    {
     "name": "stdout",
     "output_type": "stream",
     "text": [
      "actual mean # comments:  3.6579\n",
      "predicted mean # comments:  0.562891229246\n"
     ]
    }
   ],
   "source": [
    "print \"actual mean # comments: \", test_and_pred['comments'].mean()\n",
    "print \"predicted mean # comments: \", test_and_pred['predicted_comments'].mean()"
   ]
  },
  {
   "cell_type": "markdown",
   "metadata": {},
   "source": [
    "This is horrible!  So off in general."
   ]
  },
  {
   "cell_type": "markdown",
   "metadata": {},
   "source": [
    "Maybe we should set up some sort of bucketing system, because there's clearly a pretty strong positive skew to the data."
   ]
  },
  {
   "cell_type": "code",
   "execution_count": 170,
   "metadata": {},
   "outputs": [
    {
     "data": {
      "text/plain": [
       "<matplotlib.axes._subplots.AxesSubplot at 0x1184404d0>"
      ]
     },
     "execution_count": 170,
     "metadata": {},
     "output_type": "execute_result"
    },
    {
     "data": {
      "image/png": "[encoded data removed]",
      "text/plain": [
       "<matplotlib.figure.Figure at 0x118440590>"
      ]
     },
     "metadata": {},
     "output_type": "display_data"
    }
   ],
   "source": [
    "plt.figure(figsize=(14,7))\n",
    "test_and_pred['comments'].hist(bins=25)"
   ]
  },
  {
   "cell_type": "markdown",
   "metadata": {},
   "source": [
    "### Evaluating and Auto-Building Best Model\n",
    "\n",
    "Now that we have a way to serve predictions, we need to make sure that we're actually building the best model possible.\n",
    "\n",
    "Let's make a train/test split and then evaluate RMSE on different values of k"
   ]
  },
  {
   "cell_type": "code",
   "execution_count": 75,
   "metadata": {
    "collapsed": true
   },
   "outputs": [],
   "source": [
    "# to make a test data set, we'll randomly drop 20% of the ratings from the sample dataset.\n"
   ]
  },
  {
   "cell_type": "code",
   "execution_count": 108,
   "metadata": {
    "collapsed": true
   },
   "outputs": [],
   "source": [
    "def build_test_set(df, ratings_column, test_ratio=0.1):\n",
    "    test_set = df.copy()\n",
    "    ratings = test_set[ratings_column].values\n",
    "    # choices == 1 when we are dropping the value, so these are our test cases.\n",
    "    choices = np.random.choice(a=[0,1], size=len(ratings), p=[1-test_ratio, test_ratio])\n",
    "    new_ratings = []\n",
    "    for choice, rating in zip(choices, ratings):\n",
    "        if choice == 1:\n",
    "            rating = 0\n",
    "        new_ratings.append(rating)\n",
    "    test_set[ratings_column] = new_ratings\n",
    "    return test_set, choices"
   ]
  },
  {
   "cell_type": "code",
   "execution_count": 176,
   "metadata": {
    "scrolled": true
   },
   "outputs": [
    {
     "name": "stdout",
     "output_type": "stream",
     "text": [
      "K-Value:  5\n",
      "RMSE : 6.57239813331\n",
      "K-Value:  10\n",
      "RMSE : 6.57143135907\n",
      "K-Value:  15\n",
      "RMSE : 6.57094005986\n",
      "K-Value:  20\n",
      "RMSE : 6.56495414718\n",
      "K-Value:  25\n",
      "RMSE : 6.56401400585\n",
      "K-Value:  30\n",
      "RMSE : 6.56389068747\n",
      "K-Value:  40\n",
      "RMSE : 6.56498329581\n",
      "K-Value:  50\n",
      "RMSE : 6.56531892329\n"
     ]
    }
   ],
   "source": [
    "from scipy.sparse.linalg import svds\n",
    "from sklearn.metrics import mean_squared_error\n",
    "\n",
    "k_choices = [5,10,15,20,25,30,40,50]\n",
    "\n",
    "# we need test cases to know which values were turned to 0\n",
    "X_train, test_cases = build_test_set(sample, 'comments')\n",
    "\n",
    "X_train_wide = X_train.pivot(index='user', columns='subreddit', values='comments').fillna(0)\n",
    "R_train = X_train_wide.as_matrix()\n",
    "R_train_means = np.mean(R_train, axis = 1)\n",
    "R_train_demeaned = R_train - R_train_means.reshape(-1,1)\n",
    "\n",
    "# we'll use this for validation\n",
    "test_long = sample.copy()\n",
    "comments_test = test_long.loc[test_cases == 1, 'comments'].values\n",
    "\n",
    "# let's save the errors for plotting\n",
    "error_dict = {}\n",
    "\n",
    "for k in k_choices:\n",
    "    U, sigma, Vt = svds(R_train_demeaned, k=k)\n",
    "    sigma = np.diag(sigma)\n",
    "\n",
    "    # now, to get back to the predicted matrix, we take the dot product of all three matrices, and then add back\n",
    "    # the means\n",
    "    R_pred = np.dot(np.dot(U, sigma), Vt) + R_train_means.reshape(-1,1)\n",
    "\n",
    "    # Taking the wide predictions matrix and turning it into dataframe\n",
    "    preds_df = pd.DataFrame(R_pred, columns = X_train_wide.columns)    \n",
    "    \n",
    "    # adding a username column so that we can melt to long form\n",
    "    preds_df['user'] = R_df.index\n",
    "    \n",
    "    # melting wide dataframe so we can easily compare predicted and test values\n",
    "    preds_long = pd.melt(preds_df, id_vars='user', value_name='predicted_comments')\n",
    "    \n",
    "    # making a test and predicted dataframe that ditches predicted values that weren't in the original data\n",
    "    test_and_pred = test_long.merge(preds_long, how='left', left_on=['user', 'subreddit'], right_on=['user', 'subreddit'])\n",
    "    \n",
    "    # extracting just the predicted comment values\n",
    "    comments_pred = test_and_pred.loc[test_cases == 1, 'predicted_comments'].values\n",
    "    \n",
    "    # calculating root mean squared error\n",
    "    RMSE = mean_squared_error(comments_test, comments_pred)**0.5\n",
    "    print \"K-Value: \", k\n",
    "    print \"RMSE :\", RMSE\n",
    "    error_dict[k] = RMSE"
   ]
  },
  {
   "cell_type": "code",
   "execution_count": 177,
   "metadata": {},
   "outputs": [
    {
     "data": {
      "text/plain": [
       "<matplotlib.text.Text at 0x11a111d90>"
      ]
     },
     "execution_count": 177,
     "metadata": {},
     "output_type": "execute_result"
    },
    {
     "data": {
      "image/png": "[encoded data removed]",
      "text/plain": [
       "<matplotlib.figure.Figure at 0x118da9a90>"
      ]
     },
     "metadata": {},
     "output_type": "display_data"
    }
   ],
   "source": [
    "# let's plot out the performance here.\n",
    "plt.figure(figsize=(12,7))\n",
    "sns.barplot(x=error_dict.keys(), y=error_dict.values())\n",
    "plt.ylim(min(error_dict.values())*.99999, max(error_dict.values())*1.00001)\n",
    "plt.title(\"RMSE For Different K Latent Features\", size=15)"
   ]
  },
  {
   "cell_type": "code",
   "execution_count": null,
   "metadata": {
    "collapsed": true
   },
   "outputs": [],
   "source": []
  }
 ],
 "metadata": {
  "kernelspec": {
   "display_name": "Python 2",
   "language": "python",
   "name": "python2"
  },
  "language_info": {
   "codemirror_mode": {
    "name": "ipython",
    "version": 2
   },
   "file_extension": ".py",
   "mimetype": "text/x-python",
   "name": "python",
   "nbconvert_exporter": "python",
   "pygments_lexer": "ipython2",
   "version": "2.7.12"
  }
 },
 "nbformat": 4,
 "nbformat_minor": 2
}
