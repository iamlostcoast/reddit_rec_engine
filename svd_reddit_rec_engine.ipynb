{
 "cells": [
  {
   "cell_type": "markdown",
   "metadata": {},
   "source": [
    "# Implementing SVD To Build a Subreddit Recommendation Engine\n",
    "\n",
    "We're going to be implementing an SVD model to build a subreddit recommendation engine.\n",
    "\n",
    "In this notebook, I'll go through the process of actually building the engine itself, after having previously collected reddit comment data.\n",
    "\n",
    "The source for this code is here: https://beckernick.github.io/matrix-factorization-recommender/"
   ]
  },
  {
   "cell_type": "code",
   "execution_count": 1,
   "metadata": {
    "collapsed": true
   },
   "outputs": [],
   "source": [
    "# First let's load some packages\n",
    "\n",
    "import pandas as pd\n",
    "import numpy as np\n",
    "import matplotlib.pyplot as plt\n",
    "import seaborn as sns\n",
    "%matplotlib inline\n",
    "import sqlite3"
   ]
  },
  {
   "cell_type": "code",
   "execution_count": 2,
   "metadata": {
    "collapsed": true
   },
   "outputs": [],
   "source": [
    "# and now we'll load in the comment data\n",
    "\n",
    "conn = sqlite3.Connection(\"./reddit_rec_data.sqlite\")\n",
    "data = pd.read_sql(\"SELECT * FROM comment_data\", con=conn)\n",
    "data.rename(columns={'variable': 'subreddit', 'value': 'comments'}, inplace=True)"
   ]
  },
  {
   "cell_type": "code",
   "execution_count": 3,
   "metadata": {},
   "outputs": [
    {
     "data": {
      "text/html": [
       "<div>\n",
       "<table border=\"1\" class=\"dataframe\">\n",
       "  <thead>\n",
       "    <tr style=\"text-align: right;\">\n",
       "      <th></th>\n",
       "      <th>index</th>\n",
       "      <th>user</th>\n",
       "      <th>subreddit</th>\n",
       "      <th>comments</th>\n",
       "    </tr>\n",
       "  </thead>\n",
       "  <tbody>\n",
       "    <tr>\n",
       "      <th>0</th>\n",
       "      <td>0</td>\n",
       "      <td>DCbean</td>\n",
       "      <td>r/10cloverfieldlane</td>\n",
       "      <td>1.0</td>\n",
       "    </tr>\n",
       "    <tr>\n",
       "      <th>1</th>\n",
       "      <td>1</td>\n",
       "      <td>fakedeepusername</td>\n",
       "      <td>r/1200isplenty</td>\n",
       "      <td>4.0</td>\n",
       "    </tr>\n",
       "    <tr>\n",
       "      <th>2</th>\n",
       "      <td>2</td>\n",
       "      <td>Shyguy380</td>\n",
       "      <td>r/13ReasonsWhy</td>\n",
       "      <td>1.0</td>\n",
       "    </tr>\n",
       "    <tr>\n",
       "      <th>3</th>\n",
       "      <td>3</td>\n",
       "      <td>jamjax12</td>\n",
       "      <td>r/13ReasonsWhy</td>\n",
       "      <td>5.0</td>\n",
       "    </tr>\n",
       "    <tr>\n",
       "      <th>4</th>\n",
       "      <td>4</td>\n",
       "      <td>Death215</td>\n",
       "      <td>r/2007scape</td>\n",
       "      <td>2.0</td>\n",
       "    </tr>\n",
       "  </tbody>\n",
       "</table>\n",
       "</div>"
      ],
      "text/plain": [
       "   index              user            subreddit  comments\n",
       "0      0            DCbean  r/10cloverfieldlane       1.0\n",
       "1      1  fakedeepusername       r/1200isplenty       4.0\n",
       "2      2         Shyguy380       r/13ReasonsWhy       1.0\n",
       "3      3          jamjax12       r/13ReasonsWhy       5.0\n",
       "4      4          Death215          r/2007scape       2.0"
      ]
     },
     "execution_count": 3,
     "metadata": {},
     "output_type": "execute_result"
    }
   ],
   "source": [
    "data.head()"
   ]
  },
  {
   "cell_type": "code",
   "execution_count": 4,
   "metadata": {
    "collapsed": true
   },
   "outputs": [],
   "source": [
    "# now we need to pivot the data to be able to get it so each row is a user, and the columns are subreddits.\n",
    "# let's start with just a sample of the data\n",
    "\n",
    "sample = data.iloc[0:50000, :]\n",
    "R_df = sample.pivot(index='user', columns='subreddit', values='comments').fillna(0)"
   ]
  },
  {
   "cell_type": "code",
   "execution_count": 6,
   "metadata": {},
   "outputs": [
    {
     "data": {
      "text/html": [
       "<div>\n",
       "<table border=\"1\" class=\"dataframe\">\n",
       "  <thead>\n",
       "    <tr style=\"text-align: right;\">\n",
       "      <th>subreddit</th>\n",
       "      <th>r/0xProject</th>\n",
       "      <th>r/100ballshack</th>\n",
       "      <th>r/100yearsago</th>\n",
       "      <th>r/1022</th>\n",
       "      <th>r/10cloverfieldlane</th>\n",
       "      <th>r/10mm</th>\n",
       "      <th>r/1200isjerky</th>\n",
       "      <th>r/1200isplenty</th>\n",
       "      <th>r/12Monkeys</th>\n",
       "      <th>r/13ReasonsWhy</th>\n",
       "      <th>...</th>\n",
       "      <th>r/zyzz</th>\n",
       "      <th>u/Cazazkq</th>\n",
       "      <th>u/Nintendo_America</th>\n",
       "      <th>u/OfficialValKilmer</th>\n",
       "      <th>u/Python422</th>\n",
       "      <th>u/Shitty_Watercolour</th>\n",
       "      <th>u/SmilsumKcuf</th>\n",
       "      <th>u/_BindersFullOfWomen_</th>\n",
       "      <th>u/maximumcrisis</th>\n",
       "      <th>u/washingtonpost</th>\n",
       "    </tr>\n",
       "    <tr>\n",
       "      <th>user</th>\n",
       "      <th></th>\n",
       "      <th></th>\n",
       "      <th></th>\n",
       "      <th></th>\n",
       "      <th></th>\n",
       "      <th></th>\n",
       "      <th></th>\n",
       "      <th></th>\n",
       "      <th></th>\n",
       "      <th></th>\n",
       "      <th></th>\n",
       "      <th></th>\n",
       "      <th></th>\n",
       "      <th></th>\n",
       "      <th></th>\n",
       "      <th></th>\n",
       "      <th></th>\n",
       "      <th></th>\n",
       "      <th></th>\n",
       "      <th></th>\n",
       "      <th></th>\n",
       "    </tr>\n",
       "  </thead>\n",
       "  <tbody>\n",
       "    <tr>\n",
       "      <th>--ManBearPig--</th>\n",
       "      <td>0.0</td>\n",
       "      <td>0.0</td>\n",
       "      <td>0.0</td>\n",
       "      <td>0.0</td>\n",
       "      <td>0.0</td>\n",
       "      <td>0.0</td>\n",
       "      <td>0.0</td>\n",
       "      <td>0.0</td>\n",
       "      <td>0.0</td>\n",
       "      <td>0.0</td>\n",
       "      <td>...</td>\n",
       "      <td>0.0</td>\n",
       "      <td>0.0</td>\n",
       "      <td>0.0</td>\n",
       "      <td>0.0</td>\n",
       "      <td>0.0</td>\n",
       "      <td>0.0</td>\n",
       "      <td>0.0</td>\n",
       "      <td>0.0</td>\n",
       "      <td>0.0</td>\n",
       "      <td>0.0</td>\n",
       "    </tr>\n",
       "    <tr>\n",
       "      <th>-Agathia-</th>\n",
       "      <td>0.0</td>\n",
       "      <td>0.0</td>\n",
       "      <td>0.0</td>\n",
       "      <td>0.0</td>\n",
       "      <td>0.0</td>\n",
       "      <td>0.0</td>\n",
       "      <td>0.0</td>\n",
       "      <td>0.0</td>\n",
       "      <td>0.0</td>\n",
       "      <td>0.0</td>\n",
       "      <td>...</td>\n",
       "      <td>0.0</td>\n",
       "      <td>0.0</td>\n",
       "      <td>0.0</td>\n",
       "      <td>0.0</td>\n",
       "      <td>0.0</td>\n",
       "      <td>0.0</td>\n",
       "      <td>0.0</td>\n",
       "      <td>0.0</td>\n",
       "      <td>0.0</td>\n",
       "      <td>0.0</td>\n",
       "    </tr>\n",
       "    <tr>\n",
       "      <th>-Big_Bad-</th>\n",
       "      <td>0.0</td>\n",
       "      <td>0.0</td>\n",
       "      <td>0.0</td>\n",
       "      <td>0.0</td>\n",
       "      <td>0.0</td>\n",
       "      <td>0.0</td>\n",
       "      <td>0.0</td>\n",
       "      <td>0.0</td>\n",
       "      <td>0.0</td>\n",
       "      <td>0.0</td>\n",
       "      <td>...</td>\n",
       "      <td>0.0</td>\n",
       "      <td>0.0</td>\n",
       "      <td>0.0</td>\n",
       "      <td>0.0</td>\n",
       "      <td>0.0</td>\n",
       "      <td>0.0</td>\n",
       "      <td>0.0</td>\n",
       "      <td>0.0</td>\n",
       "      <td>0.0</td>\n",
       "      <td>0.0</td>\n",
       "    </tr>\n",
       "    <tr>\n",
       "      <th>-Chrown-</th>\n",
       "      <td>0.0</td>\n",
       "      <td>0.0</td>\n",
       "      <td>0.0</td>\n",
       "      <td>0.0</td>\n",
       "      <td>0.0</td>\n",
       "      <td>0.0</td>\n",
       "      <td>0.0</td>\n",
       "      <td>0.0</td>\n",
       "      <td>0.0</td>\n",
       "      <td>0.0</td>\n",
       "      <td>...</td>\n",
       "      <td>0.0</td>\n",
       "      <td>0.0</td>\n",
       "      <td>0.0</td>\n",
       "      <td>0.0</td>\n",
       "      <td>0.0</td>\n",
       "      <td>0.0</td>\n",
       "      <td>0.0</td>\n",
       "      <td>0.0</td>\n",
       "      <td>0.0</td>\n",
       "      <td>0.0</td>\n",
       "    </tr>\n",
       "    <tr>\n",
       "      <th>-Claive-</th>\n",
       "      <td>0.0</td>\n",
       "      <td>0.0</td>\n",
       "      <td>0.0</td>\n",
       "      <td>0.0</td>\n",
       "      <td>0.0</td>\n",
       "      <td>0.0</td>\n",
       "      <td>0.0</td>\n",
       "      <td>0.0</td>\n",
       "      <td>0.0</td>\n",
       "      <td>0.0</td>\n",
       "      <td>...</td>\n",
       "      <td>0.0</td>\n",
       "      <td>0.0</td>\n",
       "      <td>0.0</td>\n",
       "      <td>0.0</td>\n",
       "      <td>0.0</td>\n",
       "      <td>0.0</td>\n",
       "      <td>0.0</td>\n",
       "      <td>0.0</td>\n",
       "      <td>0.0</td>\n",
       "      <td>0.0</td>\n",
       "    </tr>\n",
       "  </tbody>\n",
       "</table>\n",
       "<p>5 rows × 7677 columns</p>\n",
       "</div>"
      ],
      "text/plain": [
       "subreddit       r/0xProject  r/100ballshack  r/100yearsago  r/1022  \\\n",
       "user                                                                 \n",
       "--ManBearPig--          0.0             0.0            0.0     0.0   \n",
       "-Agathia-               0.0             0.0            0.0     0.0   \n",
       "-Big_Bad-               0.0             0.0            0.0     0.0   \n",
       "-Chrown-                0.0             0.0            0.0     0.0   \n",
       "-Claive-                0.0             0.0            0.0     0.0   \n",
       "\n",
       "subreddit       r/10cloverfieldlane  r/10mm  r/1200isjerky  r/1200isplenty  \\\n",
       "user                                                                         \n",
       "--ManBearPig--                  0.0     0.0            0.0             0.0   \n",
       "-Agathia-                       0.0     0.0            0.0             0.0   \n",
       "-Big_Bad-                       0.0     0.0            0.0             0.0   \n",
       "-Chrown-                        0.0     0.0            0.0             0.0   \n",
       "-Claive-                        0.0     0.0            0.0             0.0   \n",
       "\n",
       "subreddit       r/12Monkeys  r/13ReasonsWhy        ...         r/zyzz  \\\n",
       "user                                               ...                  \n",
       "--ManBearPig--          0.0             0.0        ...            0.0   \n",
       "-Agathia-               0.0             0.0        ...            0.0   \n",
       "-Big_Bad-               0.0             0.0        ...            0.0   \n",
       "-Chrown-                0.0             0.0        ...            0.0   \n",
       "-Claive-                0.0             0.0        ...            0.0   \n",
       "\n",
       "subreddit       u/Cazazkq  u/Nintendo_America  u/OfficialValKilmer  \\\n",
       "user                                                                 \n",
       "--ManBearPig--        0.0                 0.0                  0.0   \n",
       "-Agathia-             0.0                 0.0                  0.0   \n",
       "-Big_Bad-             0.0                 0.0                  0.0   \n",
       "-Chrown-              0.0                 0.0                  0.0   \n",
       "-Claive-              0.0                 0.0                  0.0   \n",
       "\n",
       "subreddit       u/Python422  u/Shitty_Watercolour  u/SmilsumKcuf  \\\n",
       "user                                                               \n",
       "--ManBearPig--          0.0                   0.0            0.0   \n",
       "-Agathia-               0.0                   0.0            0.0   \n",
       "-Big_Bad-               0.0                   0.0            0.0   \n",
       "-Chrown-                0.0                   0.0            0.0   \n",
       "-Claive-                0.0                   0.0            0.0   \n",
       "\n",
       "subreddit       u/_BindersFullOfWomen_  u/maximumcrisis  u/washingtonpost  \n",
       "user                                                                       \n",
       "--ManBearPig--                     0.0              0.0               0.0  \n",
       "-Agathia-                          0.0              0.0               0.0  \n",
       "-Big_Bad-                          0.0              0.0               0.0  \n",
       "-Chrown-                           0.0              0.0               0.0  \n",
       "-Claive-                           0.0              0.0               0.0  \n",
       "\n",
       "[5 rows x 7677 columns]"
      ]
     },
     "execution_count": 6,
     "metadata": {},
     "output_type": "execute_result"
    }
   ],
   "source": [
    "R_df.head()"
   ]
  },
  {
   "cell_type": "code",
   "execution_count": 10,
   "metadata": {
    "collapsed": true
   },
   "outputs": [],
   "source": [
    "# Now we need to \"de-mean\" the ratings, that is subtract the mean # of comments from each users number of comments\n",
    "\n",
    "R = R_df.as_matrix()\n",
    "R_means = np.mean(R, axis = 1)\n",
    "R_demeaned = R - R_means.reshape(-1,1)"
   ]
  },
  {
   "cell_type": "code",
   "execution_count": 11,
   "metadata": {},
   "outputs": [
    {
     "data": {
      "text/plain": [
       "array([[-0.00325648, -0.00325648, -0.00325648, ..., -0.00325648,\n",
       "        -0.00325648, -0.00325648],\n",
       "       [-0.00143285, -0.00143285, -0.00143285, ..., -0.00143285,\n",
       "        -0.00143285, -0.00143285],\n",
       "       [-0.00325648, -0.00325648, -0.00325648, ..., -0.00325648,\n",
       "        -0.00325648, -0.00325648],\n",
       "       ..., \n",
       "       [-0.00325648, -0.00325648, -0.00325648, ..., -0.00325648,\n",
       "        -0.00325648, -0.00325648],\n",
       "       [-0.00325648, -0.00325648, -0.00325648, ..., -0.00325648,\n",
       "        -0.00325648, -0.00325648],\n",
       "       [-0.00156311, -0.00156311, -0.00156311, ..., -0.00156311,\n",
       "        -0.00156311, -0.00156311]])"
      ]
     },
     "execution_count": 11,
     "metadata": {},
     "output_type": "execute_result"
    }
   ],
   "source": [
    "R_demeaned"
   ]
  },
  {
   "cell_type": "markdown",
   "metadata": {},
   "source": [
    "# SVD\n",
    "\n",
    "Now that we have properly normalized data we can do the SVD modeling"
   ]
  },
  {
   "cell_type": "code",
   "execution_count": 12,
   "metadata": {
    "collapsed": true
   },
   "outputs": [],
   "source": [
    "from scipy.sparse.linalg import svds\n",
    "\n",
    "U, sigma, Vt = svds(R_demeaned, k=50)"
   ]
  },
  {
   "cell_type": "code",
   "execution_count": 13,
   "metadata": {
    "collapsed": true
   },
   "outputs": [],
   "source": [
    "# sigma is just values, so we need to convert it to a matrix with sigma as the diagonal\n",
    "\n",
    "sigma = np.diag(sigma)"
   ]
  },
  {
   "cell_type": "code",
   "execution_count": 18,
   "metadata": {},
   "outputs": [],
   "source": [
    "# now, to get back to the predicted matrix, we take the dot product of all three matrices, and then add back\n",
    "# the means\n",
    "R_pred = np.dot(np.dot(U, sigma), Vt) + R_means.reshape(-1,1)"
   ]
  },
  {
   "cell_type": "code",
   "execution_count": 21,
   "metadata": {
    "collapsed": true
   },
   "outputs": [],
   "source": [
    "preds_df = pd.DataFrame(R_pred, columns = R_df.columns)"
   ]
  },
  {
   "cell_type": "code",
   "execution_count": 26,
   "metadata": {},
   "outputs": [
    {
     "name": "stdout",
     "output_type": "stream",
     "text": [
      "0.147133831456\n"
     ]
    }
   ],
   "source": [
    "# we can evaluate the performance of the model by taking the RMSE of the original and new dataframes\n",
    "from sklearn.metrics import mean_squared_error\n",
    "\n",
    "RMSE = mean_squared_error(R_df, preds_df)**0.5\n",
    "print RMSE"
   ]
  },
  {
   "cell_type": "markdown",
   "metadata": {},
   "source": [
    "What we should do now is split the data up into training and testing, and then try to optimize for the k value of latent features that minimizes RMSE.  We'll come back to that.\n",
    "\n",
    "For now, let's write up code that serves us recommendations based on the recomposed matrix we just built."
   ]
  },
  {
   "cell_type": "code",
   "execution_count": 56,
   "metadata": {},
   "outputs": [
    {
     "data": {
      "text/html": [
       "<div>\n",
       "<table border=\"1\" class=\"dataframe\">\n",
       "  <thead>\n",
       "    <tr style=\"text-align: right;\">\n",
       "      <th></th>\n",
       "      <th>index</th>\n",
       "      <th>user</th>\n",
       "      <th>subreddit</th>\n",
       "      <th>comments</th>\n",
       "    </tr>\n",
       "  </thead>\n",
       "  <tbody>\n",
       "    <tr>\n",
       "      <th>0</th>\n",
       "      <td>0</td>\n",
       "      <td>DCbean</td>\n",
       "      <td>r/10cloverfieldlane</td>\n",
       "      <td>1.0</td>\n",
       "    </tr>\n",
       "    <tr>\n",
       "      <th>263</th>\n",
       "      <td>263</td>\n",
       "      <td>DCbean</td>\n",
       "      <td>r/AskReddit</td>\n",
       "      <td>1.0</td>\n",
       "    </tr>\n",
       "    <tr>\n",
       "      <th>692</th>\n",
       "      <td>692</td>\n",
       "      <td>DCbean</td>\n",
       "      <td>r/Breath_of_the_Wild</td>\n",
       "      <td>1.0</td>\n",
       "    </tr>\n",
       "    <tr>\n",
       "      <th>860</th>\n",
       "      <td>860</td>\n",
       "      <td>DCbean</td>\n",
       "      <td>r/CrappyDesign</td>\n",
       "      <td>1.0</td>\n",
       "    </tr>\n",
       "    <tr>\n",
       "      <th>1671</th>\n",
       "      <td>1671</td>\n",
       "      <td>DCbean</td>\n",
       "      <td>r/MBMBAM</td>\n",
       "      <td>2.0</td>\n",
       "    </tr>\n",
       "    <tr>\n",
       "      <th>1825</th>\n",
       "      <td>1825</td>\n",
       "      <td>DCbean</td>\n",
       "      <td>r/Mommit</td>\n",
       "      <td>1.0</td>\n",
       "    </tr>\n",
       "    <tr>\n",
       "      <th>2368</th>\n",
       "      <td>2368</td>\n",
       "      <td>DCbean</td>\n",
       "      <td>r/Showerthoughts</td>\n",
       "      <td>1.0</td>\n",
       "    </tr>\n",
       "    <tr>\n",
       "      <th>3826</th>\n",
       "      <td>3826</td>\n",
       "      <td>DCbean</td>\n",
       "      <td>r/funny</td>\n",
       "      <td>10.0</td>\n",
       "    </tr>\n",
       "    <tr>\n",
       "      <th>4600</th>\n",
       "      <td>4600</td>\n",
       "      <td>DCbean</td>\n",
       "      <td>r/maximumfun</td>\n",
       "      <td>2.0</td>\n",
       "    </tr>\n",
       "    <tr>\n",
       "      <th>5242</th>\n",
       "      <td>5242</td>\n",
       "      <td>DCbean</td>\n",
       "      <td>r/pics</td>\n",
       "      <td>2.0</td>\n",
       "    </tr>\n",
       "    <tr>\n",
       "      <th>6324</th>\n",
       "      <td>6324</td>\n",
       "      <td>DCbean</td>\n",
       "      <td>r/washingtondc</td>\n",
       "      <td>2.0</td>\n",
       "    </tr>\n",
       "  </tbody>\n",
       "</table>\n",
       "</div>"
      ],
      "text/plain": [
       "      index    user             subreddit  comments\n",
       "0         0  DCbean   r/10cloverfieldlane       1.0\n",
       "263     263  DCbean           r/AskReddit       1.0\n",
       "692     692  DCbean  r/Breath_of_the_Wild       1.0\n",
       "860     860  DCbean        r/CrappyDesign       1.0\n",
       "1671   1671  DCbean              r/MBMBAM       2.0\n",
       "1825   1825  DCbean              r/Mommit       1.0\n",
       "2368   2368  DCbean      r/Showerthoughts       1.0\n",
       "3826   3826  DCbean               r/funny      10.0\n",
       "4600   4600  DCbean          r/maximumfun       2.0\n",
       "5242   5242  DCbean                r/pics       2.0\n",
       "6324   6324  DCbean        r/washingtondc       2.0"
      ]
     },
     "execution_count": 56,
     "metadata": {},
     "output_type": "execute_result"
    }
   ],
   "source": [
    "# DCbean is going to be my test person\n",
    "\n",
    "data[data['user']=='DCbean']"
   ]
  },
  {
   "cell_type": "code",
   "execution_count": 72,
   "metadata": {
    "collapsed": true
   },
   "outputs": [],
   "source": [
    "def recommend_subreddits(predictions_df, username, original_ratings_df, unpivoted_df, num_recommendations=10):\n",
    "    # we want to get the index of the row of the new DF that corresponds to this user\n",
    "    user_row = list(original_ratings_df.index).index(username)\n",
    "    \n",
    "    sorted_user_predictions = predictions_df.iloc[user_row].sort_values(ascending=False)\n",
    "    \n",
    "    # let's check out which subreddits have already been commented on\n",
    "    commented = unpivoted_df[unpivoted_df['user']==username].subreddit.values\n",
    "    sorted_user_predictions = sorted_user_predictions.reset_index()\n",
    "    sorted_user_predictions.columns = ['subreddit', 'predicted_comments']\n",
    "    \n",
    "    # only want to get recs for \n",
    "    recs = sorted_user_predictions[~sorted_user_predictions['subreddit'].isin(commented)]\n",
    "    \n",
    "    recs_limited = recs.iloc[0:num_recommendations, :]\n",
    "    return recs_limited\n",
    "    "
   ]
  },
  {
   "cell_type": "code",
   "execution_count": 73,
   "metadata": {},
   "outputs": [
    {
     "data": {
      "text/html": [
       "<div>\n",
       "<table border=\"1\" class=\"dataframe\">\n",
       "  <thead>\n",
       "    <tr style=\"text-align: right;\">\n",
       "      <th></th>\n",
       "      <th>subreddit</th>\n",
       "      <th>predicted_comments</th>\n",
       "    </tr>\n",
       "  </thead>\n",
       "  <tbody>\n",
       "    <tr>\n",
       "      <th>1</th>\n",
       "      <td>r/videos</td>\n",
       "      <td>3.113572</td>\n",
       "    </tr>\n",
       "    <tr>\n",
       "      <th>2</th>\n",
       "      <td>r/gaming</td>\n",
       "      <td>2.022728</td>\n",
       "    </tr>\n",
       "    <tr>\n",
       "      <th>3</th>\n",
       "      <td>r/gifs</td>\n",
       "      <td>1.875062</td>\n",
       "    </tr>\n",
       "    <tr>\n",
       "      <th>5</th>\n",
       "      <td>r/todayilearned</td>\n",
       "      <td>1.579901</td>\n",
       "    </tr>\n",
       "    <tr>\n",
       "      <th>7</th>\n",
       "      <td>r/CringeAnarchy</td>\n",
       "      <td>0.756726</td>\n",
       "    </tr>\n",
       "    <tr>\n",
       "      <th>8</th>\n",
       "      <td>r/aww</td>\n",
       "      <td>0.654116</td>\n",
       "    </tr>\n",
       "    <tr>\n",
       "      <th>10</th>\n",
       "      <td>r/mildlyinteresting</td>\n",
       "      <td>0.578071</td>\n",
       "    </tr>\n",
       "    <tr>\n",
       "      <th>11</th>\n",
       "      <td>r/WTF</td>\n",
       "      <td>0.482566</td>\n",
       "    </tr>\n",
       "    <tr>\n",
       "      <th>12</th>\n",
       "      <td>r/hearthstone</td>\n",
       "      <td>0.379388</td>\n",
       "    </tr>\n",
       "    <tr>\n",
       "      <th>13</th>\n",
       "      <td>r/pokemongo</td>\n",
       "      <td>0.356606</td>\n",
       "    </tr>\n",
       "  </tbody>\n",
       "</table>\n",
       "</div>"
      ],
      "text/plain": [
       "              subreddit  predicted_comments\n",
       "1              r/videos            3.113572\n",
       "2              r/gaming            2.022728\n",
       "3                r/gifs            1.875062\n",
       "5       r/todayilearned            1.579901\n",
       "7       r/CringeAnarchy            0.756726\n",
       "8                 r/aww            0.654116\n",
       "10  r/mildlyinteresting            0.578071\n",
       "11                r/WTF            0.482566\n",
       "12        r/hearthstone            0.379388\n",
       "13          r/pokemongo            0.356606"
      ]
     },
     "execution_count": 73,
     "metadata": {},
     "output_type": "execute_result"
    }
   ],
   "source": [
    "recommend_subreddits(predictions_df=preds_df, username='DCbean', original_ratings_df=R_df, unpivoted_df=sample)"
   ]
  },
  {
   "cell_type": "markdown",
   "metadata": {},
   "source": [
    "It seems like we may have a bit of a harry potter effect problem, with the really popular subreddits dominating the recommendations.  I wonder if we could account for this by log transforming comments or somehow normalizing comments in another way."
   ]
  },
  {
   "cell_type": "code",
   "execution_count": null,
   "metadata": {
    "collapsed": true
   },
   "outputs": [],
   "source": []
  }
 ],
 "metadata": {
  "kernelspec": {
   "display_name": "Python 2",
   "language": "python",
   "name": "python2"
  },
  "language_info": {
   "codemirror_mode": {
    "name": "ipython",
    "version": 2
   },
   "file_extension": ".py",
   "mimetype": "text/x-python",
   "name": "python",
   "nbconvert_exporter": "python",
   "pygments_lexer": "ipython2",
   "version": "2.7.12"
  }
 },
 "nbformat": 4,
 "nbformat_minor": 2
}
